{
 "cells": [
  {
   "cell_type": "code",
   "execution_count": 39,
   "id": "76f96c04-894a-4b55-a55b-6fa8ba14be08",
   "metadata": {},
   "outputs": [],
   "source": [
    "import scipy.signal as sp\n",
    "import numpy as np\n",
    "import ipywidgets as widgets\n",
    "import matplotlib.pyplot as plt\n",
    "import math\n",
    "from matplotlib.widgets import Slider, Button"
   ]
  },
  {
   "cell_type": "code",
   "execution_count": 188,
   "id": "6f2ea4a3-111b-4e25-a330-6e5675c851ae",
   "metadata": {},
   "outputs": [],
   "source": [
    "def generate_stimuli(pos = [0, 0], size=20):\n",
    "    if type(pos) == list:\n",
    "        pos = np.asarray(pos).reshape(1, len(pos))\n",
    "        \n",
    "    stims = np.zeros([size, size, pos.shape[0]])\n",
    "    \n",
    "    for i in range(pos.shape[0]):\n",
    "        center = pos[i]\n",
    "        x = round(pos[i, 0]) + int(size/2)\n",
    "        y = round(pos[i, 1]) + int(size/2)\n",
    "        \n",
    "        stims[y, x, i] = 1\n",
    "    \n",
    "    return np.squeeze(stims), pos\n",
    "\n",
    "\n",
    "def generate_prf(center = [0, 0], size=20, sd=10):\n",
    "    x = np.arange(-int(size/2), int(size/2), 1, float)\n",
    "    y = x[:,np.newaxis]\n",
    "    \n",
    "    prf =  np.exp(- ((x-center[0])**2 + (y-center[1])**2) / (2*sd**2))\n",
    "    \n",
    "    return prf\n",
    "\n",
    "\n",
    "def generate_voxels(deg_radius=20, n_eccentricities=10, prf_slope=0.2, prf_intercept = 0.6):\n",
    "    # v1, v2 slope = 0.2\n",
    "    # v3 = 0.25\n",
    "    # hV4 = 0.5\n",
    "    pos = np.linspace(0, deg_radius, n_eccentricities)\n",
    "    xs = np.concatenate([-pos[:0:-1], pos])\n",
    "    ys = xs[:, np.newaxis][::-1]\n",
    "\n",
    "    voxels = []\n",
    "\n",
    "    for x in xs.flatten():\n",
    "        for y in ys.flatten():\n",
    "            ecc = np.linalg.norm(np.array([x, y]))\n",
    "            prf_size = ecc * prf_slope + prf_intercept\n",
    "\n",
    "            voxels.append([x, y, ecc, prf_size])\n",
    "\n",
    "    voxels = np.asarray(voxels)\n",
    "    \n",
    "    return voxels\n",
    "\n",
    "\n",
    "def generate_isostim(eccentricity, n_pos, size):\n",
    "    xstart = np.arange(0, 2*np.pi, 2*np.pi / n_pos)\n",
    "    xstop = xstart + 2*np.pi / n_pos\n",
    "    x = np.random.uniform(xstart, xstop)\n",
    "    \n",
    "    positions = eccentricity * np.array([np.sin(x), np.cos(x)]).T \n",
    "    \n",
    "    stims, pos = generate_stimuli(positions, size = size)\n",
    "    \n",
    "    return stims, positions, x\n",
    "\n",
    "\n",
    "def gen_pRFresponses(near_ecc, target_ecc, stims, prf_maps, voxels, positions):\n",
    "    # near_ecc = 2\n",
    "    # stim = stims[:, :, slice]\n",
    "    # angle_s = angles[slice]\n",
    "    # pos = positions[slice]\n",
    "    # angle = np.arctan2(pos[1], pos[0])\n",
    "    # coords = np.where(stim == 1)\n",
    "    # threshold = 0.01\n",
    "    target_idxs = np.where((voxels[:, 2] <= target_ecc + near_ecc) & (voxels[:, 2] >= target_ecc - near_ecc))\n",
    "    target_voxels = voxels[target_idxs]\n",
    "    target_prf_maps = prf_maps[:, :, target_idxs].squeeze()\n",
    "    prf_responses = np.zeros([len(target_voxels), 6, stims.shape[-1]])     \n",
    "    \n",
    "    for s in range(stims.shape[-1]):\n",
    "        stim = stims[:, :, s]\n",
    "        prf_resps = []\n",
    "        pos = positions[s]\n",
    "        angle = np.arctan2(pos[1], pos[0])\n",
    "        \n",
    "        for i, v in enumerate(target_voxels):\n",
    "            x, y, ecc, prf_size = v\n",
    "            prf = target_prf_maps[:, :, i]\n",
    "            prf_resp = stim.flatten() @ prf.flatten()\n",
    "            vox_deg_in_rads = np.arctan2(y, x)\n",
    "\n",
    "            vox_diff = angle - vox_deg_in_rads\n",
    "            prf_resps.append([x, y, ecc, vox_deg_in_rads, vox_diff, prf_resp])\n",
    "\n",
    "        prf_responses[:, :, s] = np.asarray(prf_resps)\n",
    "    \n",
    "    return prf_responses\n",
    "\n",
    "\n",
    "def gen_LTMstims(stims, size, sd = 4.5):\n",
    "    filt = generate_prf(size = size*2, sd = sd)\n",
    "    ltm_stims = np.zeros([size, size, stims.shape[-1]])\n",
    "    \n",
    "    for s in range(stims.shape[-1]):\n",
    "        stim = stims[:, :, s]\n",
    "        stim_conv = sp.convolve2d(stim, filt, mode = 'same')\n",
    "        #edge = int(stim_conv.shape[0]/2 - stim.shape[0]/2)\n",
    "\n",
    "        #stim_conv = stim_conv[edge+1:-edge, edge+1:-edge]\n",
    "        stim_conv /= stim_conv.sum()\n",
    "        ltm_stims[:, :, s] = stim_conv\n",
    "    \n",
    "    ltm_stims = np.asarray(ltm_stims)\n",
    "    \n",
    "    return ltm_stims\n",
    "        "
   ]
  },
  {
   "cell_type": "code",
   "execution_count": 189,
   "id": "93c6d2cd-f927-4e9f-a7eb-82e26af6adb1",
   "metadata": {},
   "outputs": [
    {
     "data": {
      "text/plain": [
       "(0.0, 1.0)"
      ]
     },
     "execution_count": 189,
     "metadata": {},
     "output_type": "execute_result"
    },
    {
     "data": {
      "image/png": "[encoded data removed]",
      "text/plain": [
       "<Figure size 720x216 with 3 Axes>"
      ]
     },
     "metadata": {
      "needs_background": "light"
     },
     "output_type": "display_data"
    }
   ],
   "source": [
    "stim, pos = generate_stimuli()\n",
    "prf = generate_prf() \n",
    "prf_resp = stim.flatten() @ prf.flatten()\n",
    "\n",
    "fig, axs = plt.subplots(1, 3)\n",
    "fig.set_size_inches(10, 3)\n",
    "\n",
    "axs[0].imshow(stim[:,:])\n",
    "\n",
    "axs[1].imshow(prf)\n",
    "axs[2].bar(1, prf_resp)\n",
    "axs[2].legend([prf_resp])\n",
    "axs[2].set_ylim([0, 1])"
   ]
  },
  {
   "cell_type": "code",
   "execution_count": 190,
   "id": "b87f9500-0790-48bb-a763-0efa924f35d2",
   "metadata": {},
   "outputs": [
    {
     "name": "stdout",
     "output_type": "stream",
     "text": [
      "(array([2721, 2722, 2723, ..., 7077, 7078, 7079]),)\n"
     ]
    },
    {
     "data": {
      "text/plain": [
       "(50, 50, 1052)"
      ]
     },
     "execution_count": 190,
     "metadata": {},
     "output_type": "execute_result"
    }
   ],
   "source": [
    "target_ecc, near_ecc = 7, 2\n",
    "target_idxs = np.where((voxels[:, 2] <= target_ecc + near_ecc) & (voxels[:, 2] >= target_ecc - near_ecc))\n",
    "print(target_idxs)\n",
    "prf_maps[:, :, target_idxs].squeeze().shape"
   ]
  },
  {
   "cell_type": "code",
   "execution_count": 191,
   "id": "b0eb1303-abaf-4c54-b80c-2061f71c34a6",
   "metadata": {},
   "outputs": [
    {
     "data": {
      "text/plain": [
       "(50, 50, 16)"
      ]
     },
     "execution_count": 191,
     "metadata": {},
     "output_type": "execute_result"
    }
   ],
   "source": [
    "ltm_stims.shape"
   ]
  },
  {
   "cell_type": "code",
   "execution_count": 213,
   "id": "9fe178be-0901-4670-a080-10d344f0ffa2",
   "metadata": {},
   "outputs": [
    {
     "name": "stdout",
     "output_type": "stream",
     "text": [
      "Generating voxels...\n",
      "Generating Stimuli...\n",
      "Generating LTM simulated sources...\n",
      "Generating pRF maps...\n",
      "Generating pRF responses...\n"
     ]
    }
   ],
   "source": [
    "size = 40\n",
    "n_pos = 16\n",
    "target_ecc = 7\n",
    "near_ecc = 1.5\n",
    "n_ecc = 50\n",
    "\n",
    "print(\"Generating voxels...\")\n",
    "voxels = generate_voxels(n_eccentricities = n_ecc)\n",
    "prf_maps = np.zeros([size, size, voxels.shape[0]])\n",
    "print(\"Generating Stimuli...\")\n",
    "stims, positions, angles = generate_isostim(target_ecc, n_pos, size = size)\n",
    "print(\"Generating LTM simulated sources...\")\n",
    "ltm_stims = gen_LTMstims(stims, size, sd = 4)\n",
    "\n",
    "print(\"Generating pRF maps...\")\n",
    "for i, v in enumerate(voxels):\n",
    "    x, y, ecc, prf_size = v\n",
    "    prf_maps[:, :, i] = generate_prf(center = [x, y], size = size, sd = prf_size)\n",
    "\n",
    "print(\"Generating pRF responses...\")\n",
    "parf_perception = gen_pRFresponses(near_ecc, target_ecc, stims, prf_maps, voxels, positions)\n",
    "parf_ltm = gen_pRFresponses(near_ecc, target_ecc, ltm_stims, prf_maps, voxels, positions) \n"
   ]
  },
  {
   "cell_type": "code",
   "execution_count": 214,
   "id": "12816d16-5eb4-4f93-aac3-4ea1f030b70f",
   "metadata": {},
   "outputs": [
    {
     "data": {
      "application/vnd.jupyter.widget-view+json": {
       "model_id": "cc31c1ed90754e71861bee42cf4223d2",
       "version_major": 2,
       "version_minor": 0
      },
      "text/plain": [
       "interactive(children=(IntSlider(value=0, description='slice', max=15), Output()), _dom_classes=('widget-intera…"
      ]
     },
     "metadata": {},
     "output_type": "display_data"
    }
   ],
   "source": [
    "# TODO: Generate prfresponses for each stimuli before initializing widget - for faster visualization\n",
    "@widgets.interact(slice=widgets.IntSlider(min=0, max=stims.shape[-1] - 1, step=1, value=0))\n",
    "def plot_prfs(slice):\n",
    "    ''' ----- Perception ----- '''\n",
    "    stim = stims[:, :, slice]\n",
    "    angle_s = angles[slice]\n",
    "    pos = positions[slice]\n",
    "    #angle = np.arctan2(pos[1], pos[0])\n",
    "    coords = np.where(stim == 1)\n",
    "    threshold = 0.01\n",
    "\n",
    "    fig, axs = plt.subplots(2, 3)\n",
    "    fig.set_size_inches(15, 8)\n",
    "\n",
    "\n",
    "    axs[0, 1].scatter(parf_perception[:, 0, slice], parf_perception[:, 1, slice], s = 5, c = parf_perception[:, -1, slice])\n",
    "    axs[0, 1].scatter(positions[slice, 0], positions[slice, 1], color = 'orange')\n",
    "\n",
    "    zero_idxs = np.where(parf_perception[:, 5, slice] <= threshold)\n",
    "\n",
    "    axs[0, 1].scatter(parf_perception[zero_idxs, 0, slice], parf_perception[zero_idxs, 1, slice], color = 'red', s=3)\n",
    "\n",
    "    xmax = parf_perception[np.where(parf_perception[:, -1, slice] == parf_perception[:, -1, slice].max()), 0]\n",
    "    ymax = parf_perception[np.where(parf_perception[:, -1, slice] == parf_perception[:, -1, slice].max()), 1]\n",
    "\n",
    "    axs[0, 1].set_xlim([-20, 20])\n",
    "    axs[0, 1].set_ylim([-20, 20])\n",
    "    axs[0, 1].axis('equal')\n",
    "    axs[0, 2].scatter(parf_perception[:, 4, slice], parf_perception[:, 5, slice])\n",
    "    axs[0, 2].set_ylim([0, 1])\n",
    "    axs[0, 2].set_xlim([-np.pi, np.pi])\n",
    "\n",
    "    axs[0, 0].imshow(stim, origin = 'lower', vmax = 1)\n",
    "    \n",
    "    axs[0, 0].set_title('Source Input (Stimulus)')\n",
    "    axs[0, 1].set_title('Voxel-wise map of Spatial Stimuli')\n",
    "    axs[0, 1].scatter(0, 0, marker = \"+\")\n",
    "    axs[0, 1].legend(['Voxels', 'Stimulus', 'Sub-threshold voxels'], loc = 'lower left',\n",
    "                 fontsize = 8)\n",
    "    ''' ----- LTM -----'''\n",
    "    near_ecc = 2\n",
    "    ltm_stim = ltm_stims[:, :, slice]\n",
    "    angle_s = angles[slice]\n",
    "    pos = positions[slice]\n",
    "    #angle = np.arctan2(pos[1], pos[0])\n",
    "    coords = np.where(stim == 1)\n",
    "    \n",
    "    print(\"\\tRed Vox Threshold:\", threshold)\n",
    "\n",
    "\n",
    "    axs[1, 1].scatter(parf_ltm[:, 0, slice], parf_ltm[:, 1, slice], s = 5, c = parf_ltm[:, -1, slice])\n",
    "    axs[1, 1].scatter(positions[slice, 0], positions[slice, 1], color = 'orange')\n",
    "    axs[1, 1].scatter(0, 0, marker = \"+\")\n",
    "\n",
    "    zero_idxs = np.where(parf_ltm[:, 5, slice] <= threshold)\n",
    "\n",
    "    axs[1, 1].scatter(parf_ltm[zero_idxs, 0, slice], parf_ltm[zero_idxs, 1, slice], color = 'red', s=3)\n",
    "\n",
    "    xmax = parf_ltm[np.where(parf_ltm[:, -1, slice] == parf_ltm[:, -1, slice].max()), 0]\n",
    "    ymax = parf_ltm[np.where(parf_ltm[:, -1, slice] == parf_ltm[:, -1, slice].max()), 1]\n",
    "\n",
    "    axs[1, 1].set_xlim([-20, 20])\n",
    "    axs[1, 1].set_ylim([-20, 20])\n",
    "    axs[1, 1].axis('equal')\n",
    "    axs[1, 2].scatter(parf_ltm[:, 4, slice], parf_ltm[:, 5, slice])\n",
    "    axs[1, 2].set_ylim([0, 1])\n",
    "    axs[1, 2].set_xlim([-np.pi, np.pi])\n",
    "\n",
    "    axs[1, 0].imshow(ltm_stim, origin = 'lower')\n",
    "    plt.show()\n",
    "    "
   ]
  }
 ],
 "metadata": {
  "kernelspec": {
   "display_name": "interstellar",
   "language": "python",
   "name": "interstellar"
  },
  "language_info": {
   "codemirror_mode": {
    "name": "ipython",
    "version": 3
   },
   "file_extension": ".py",
   "mimetype": "text/x-python",
   "name": "python",
   "nbconvert_exporter": "python",
   "pygments_lexer": "ipython3",
   "version": "3.10.0"
  }
 },
 "nbformat": 4,
 "nbformat_minor": 5
}
