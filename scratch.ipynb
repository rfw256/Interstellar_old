{
 "cells": [
  {
   "cell_type": "code",
   "execution_count": 1,
   "metadata": {},
   "outputs": [],
   "source": [
    "import numpy as np"
   ]
  },
  {
   "cell_type": "code",
   "execution_count": 2,
   "metadata": {},
   "outputs": [],
   "source": [
    "def generate_decrements(trialDuration, max_decrements, decrementDuration, responsePeriod, constantContrast = 0):\n",
    "    # Generate N = max_decrements bins of indices in ms for decrements to possibly start\n",
    "    bins = np.array_split(np.arange(0, trialDuration*1000 + 1), max_decrements)\n",
    "\n",
    "    # Get low and high range of vals for bins, pad by half of response period so no overlap between bins\n",
    "    bins_start = [np.min(a) + responsePeriod*1000 for a in bins]\n",
    "    bins_stop = [np.max(a) - responsePeriod*1000 for a in bins]\n",
    "\n",
    "    # Rondomly select decrements' start times, add stop time = decrementDuration.\n",
    "    decs = np.random.randint(bins_start, bins_stop)\n",
    "    decrements = np.asarray([decs, decs + decrementDuration*1000]).T\n",
    "\n",
    "    # Randomly select n decrements where n is a value from 1 to max_decrements\n",
    "    n = np.random.randint(max_decrements) + 1\n",
    "    decrements = decrements[np.sort(np.random.choice(decrements.shape[0], n, replace=False))]\n",
    "\n",
    "    # Generate valid response periods, from start of decrement to stop of decrement + responsePeriod\n",
    "    valid_response_periods = np.copy(decrements)\n",
    "    valid_response_periods[:, 1] += responsePeriod*1000\n",
    "\n",
    "    contrasts = np.round(np.random.rand(decrements.shape[0]), 2)\n",
    "\n",
    "    if constantContrast: contrasts = np.zeros(decrements.shape[0]) + constantContrast\n",
    "\n",
    "    return decrements, valid_response_periods, contrasts"
   ]
  },
  {
   "cell_type": "code",
   "execution_count": 33,
   "metadata": {},
   "outputs": [
    {
     "data": {
      "text/plain": [
       "array([[ 1820.,  2320.],\n",
       "       [ 4550.,  5050.],\n",
       "       [ 6843.,  7343.],\n",
       "       [10089., 10589.]])"
      ]
     },
     "execution_count": 33,
     "metadata": {},
     "output_type": "execute_result"
    }
   ],
   "source": [
    "decrements, response_periods, contrasts = generate_decrements(11.5, 4, 0.5, 1, .65)\n",
    "decrements\n"
   ]
  },
  {
   "cell_type": "code",
   "execution_count": 95,
   "metadata": {},
   "outputs": [
    {
     "data": {
      "text/html": [
       "<div>\n",
       "<style scoped>\n",
       "    .dataframe tbody tr th:only-of-type {\n",
       "        vertical-align: middle;\n",
       "    }\n",
       "\n",
       "    .dataframe tbody tr th {\n",
       "        vertical-align: top;\n",
       "    }\n",
       "\n",
       "    .dataframe thead th {\n",
       "        text-align: right;\n",
       "    }\n",
       "</style>\n",
       "<table border=\"1\" class=\"dataframe\">\n",
       "  <thead>\n",
       "    <tr style=\"text-align: right;\">\n",
       "      <th></th>\n",
       "      <th>trialNum</th>\n",
       "      <th>ITIDur</th>\n",
       "      <th>gratingPos</th>\n",
       "      <th>gratingOri</th>\n",
       "      <th>gratingAng</th>\n",
       "      <th>saccadeType</th>\n",
       "      <th>saccadeDuration</th>\n",
       "      <th>saccadeInput</th>\n",
       "      <th>gratingPosX</th>\n",
       "      <th>gratingPosY</th>\n",
       "    </tr>\n",
       "  </thead>\n",
       "  <tbody>\n",
       "    <tr>\n",
       "      <th>0</th>\n",
       "      <td>1</td>\n",
       "      <td>2000</td>\n",
       "      <td>NaN</td>\n",
       "      <td>90</td>\n",
       "      <td>180</td>\n",
       "      <td>Sacc</td>\n",
       "      <td>1</td>\n",
       "      <td>Mouse</td>\n",
       "      <td>0.0</td>\n",
       "      <td>1.0</td>\n",
       "    </tr>\n",
       "  </tbody>\n",
       "</table>\n",
       "</div>"
      ],
      "text/plain": [
       "  trialNum ITIDur gratingPos gratingOri gratingAng saccadeType  \\\n",
       "0        1   2000        NaN         90        180        Sacc   \n",
       "\n",
       "  saccadeDuration saccadeInput  gratingPosX  gratingPosY  \n",
       "0               1        Mouse          0.0          1.0  "
      ]
     },
     "execution_count": 95,
     "metadata": {},
     "output_type": "execute_result"
    }
   ],
   "source": [
    "pos = [0, 1]\n",
    "\n",
    "trial_design = pd.DataFrame(columns =         \n",
    "    ['trialNum', 'ITIDur', 'gratingPosX', 'gratingPosY', 'gratingOri', 'gratingAng', 'saccadeType',\n",
    "    'saccadeDuration', 'saccadeInput'])\n",
    "trial_design.append({\n",
    "    'trialNum': 1,\n",
    "    'ITIDur': 2000,\n",
    "    'gratingPosX': pos[0],\n",
    "    'gratingPosY': pos[1],\n",
    "    'gratingOri': 90,\n",
    "    'gratingAng': 180,\n",
    "    'saccadeType': 'Sacc',\n",
    "    'saccadeDuration': 1,\n",
    "    'saccadeInput': 'Mouse'\n",
    "}, ignore_index = True)"
   ]
  },
  {
   "cell_type": "code",
   "execution_count": null,
   "metadata": {},
   "outputs": [],
   "source": []
  }
 ],
 "metadata": {
  "interpreter": {
   "hash": "dc5a1605791bd89f0ed0f459827dea35c24f0151a63ef2b43c8a521dc56a8c35"
  },
  "kernelspec": {
   "display_name": "Python 3.6.15 64-bit ('psychopy': conda)",
   "language": "python",
   "name": "python3"
  },
  "language_info": {
   "codemirror_mode": {
    "name": "ipython",
    "version": 3
   },
   "file_extension": ".py",
   "mimetype": "text/x-python",
   "name": "python",
   "nbconvert_exporter": "python",
   "pygments_lexer": "ipython3",
   "version": "3.9.5"
  },
  "orig_nbformat": 4
 },
 "nbformat": 4,
 "nbformat_minor": 2
}
